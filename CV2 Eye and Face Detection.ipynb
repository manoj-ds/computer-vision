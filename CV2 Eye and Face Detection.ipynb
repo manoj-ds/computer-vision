{
 "cells": [
  {
   "cell_type": "markdown",
   "id": "shaped-faculty",
   "metadata": {},
   "source": [
    "# <center> CV2 Face detection</center>"
   ]
  },
  {
   "cell_type": "code",
   "execution_count": 1,
   "id": "binding-singer",
   "metadata": {},
   "outputs": [],
   "source": [
    "# Importing python modules\n",
    "import cv2 \n",
    "import numpy as np\n"
   ]
  },
  {
   "cell_type": "code",
   "execution_count": null,
   "id": "naughty-claim",
   "metadata": {},
   "outputs": [],
   "source": [
    "face_cascade = cv2.CascadeClassifier('./models/haarcascades/haarcascade_frontalface_default.xml')"
   ]
  },
  {
   "cell_type": "code",
   "execution_count": null,
   "id": "atlantic-ebony",
   "metadata": {},
   "outputs": [],
   "source": [
    "# Read image and convert into the gray color\n",
    "img = cv2.imread('./images/face-image.jpeg')\n",
    "gray = cv2.cvtColor(img, cv2.COLOR_BGR2GRAY)\n"
   ]
  },
  {
   "cell_type": "code",
   "execution_count": null,
   "id": "gross-replication",
   "metadata": {},
   "outputs": [],
   "source": [
    "faces = face_cascade.detectMultiScale(gray, 1.3, 5)\n",
    "\n",
    "print(faces)\n",
    "\n",
    "if faces is ():\n",
    "    print('No face found')\n",
    "\n",
    "for x, y, w, h in faces:\n",
    "    cv2.rectangle(img, (x, y), (x+w, y+h), (127,0,255), 2)\n",
    "    cv2.imshow('Face Detection', img)\n",
    "    cv2.waitKey(0)\n",
    "    "
   ]
  },
  {
   "cell_type": "code",
   "execution_count": null,
   "id": "expensive-tablet",
   "metadata": {},
   "outputs": [],
   "source": [
    "cv2.imwrite('./images/face-gray-image.jpg', gray)"
   ]
  },
  {
   "cell_type": "markdown",
   "id": "hired-canon",
   "metadata": {},
   "source": [
    "## Eye recognization"
   ]
  },
  {
   "cell_type": "code",
   "execution_count": 2,
   "id": "exterior-macedonia",
   "metadata": {},
   "outputs": [],
   "source": [
    "eye_cascade = cv2.CascadeClassifier('./models/haarcascades/haarcascade_eye.xml')\n",
    "face_cascade = cv2.CascadeClassifier('./models/haarcascades/haarcascade_frontalface_default.xml')"
   ]
  },
  {
   "cell_type": "code",
   "execution_count": 8,
   "id": "aquatic-authorization",
   "metadata": {},
   "outputs": [
    {
     "name": "stdout",
     "output_type": "stream",
     "text": [
      "[[ 97  56 281 281]]\n",
      "[[ 56  76  66  66]\n",
      " [157  81  57  57]]\n"
     ]
    }
   ],
   "source": [
    "\n",
    "# Read image and convert into the gray color\n",
    "img = cv2.imread('./images/face-image.jpeg')\n",
    "gray = cv2.cvtColor(img, cv2.COLOR_BGR2GRAY)\n",
    "\n",
    "face = face_cascade.detectMultiScale(gray, 1.3, 5)\n",
    "\n",
    "print(face)\n",
    "\n",
    "if face is ():\n",
    "    print('No face found')\n",
    "\n",
    "for x, y, w, h in face:\n",
    "    cv2.rectangle(img, (x, y), (x+w, y+h), (127,0,255), 2)\n",
    "    cv2.imshow('Face Detection', img)\n",
    "    cv2.waitKey(0)\n",
    "    \n",
    "    roi_gray = gray[y:y+h, x:x+w]\n",
    "    roi_color = img[y:y+h, x:x+w]\n",
    "    \n",
    "    eye = eye_cascade.detectMultiScale(roi_gray)\n",
    "    print(eye)\n",
    "    for ex, ey, ew, eh in eye:\n",
    "        cv2.rectangle(roi_color, (ex, ey), (ex+ew, ey+eh), (255, 255, 0), 2)\n",
    "        cv2.imshow('Eye Detection', img)\n",
    "        cv2.waitKey(0)\n",
    "        \n",
    "cv2.destroyAllWindows()\n"
   ]
  },
  {
   "cell_type": "markdown",
   "id": "stable-sunrise",
   "metadata": {},
   "source": [
    "# "
   ]
  }
 ],
 "metadata": {
  "kernelspec": {
   "display_name": "Python 3",
   "language": "python",
   "name": "python3"
  },
  "language_info": {
   "codemirror_mode": {
    "name": "ipython",
    "version": 3
   },
   "file_extension": ".py",
   "mimetype": "text/x-python",
   "name": "python",
   "nbconvert_exporter": "python",
   "pygments_lexer": "ipython3",
   "version": "3.7.0"
  }
 },
 "nbformat": 4,
 "nbformat_minor": 5
}
