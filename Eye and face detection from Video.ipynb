{
 "cells": [
  {
   "cell_type": "markdown",
   "id": "secret-shoulder",
   "metadata": {},
   "source": [
    "## Face and Eye Detection from Videos"
   ]
  },
  {
   "cell_type": "code",
   "execution_count": 5,
   "id": "photographic-costa",
   "metadata": {},
   "outputs": [],
   "source": [
    "import cv2"
   ]
  },
  {
   "cell_type": "code",
   "execution_count": 6,
   "id": "adequate-helping",
   "metadata": {},
   "outputs": [],
   "source": [
    "face_cascade = cv2.CascadeClassifier('./models/haarcascades/haarcascade_frontalface_default.xml')\n",
    "eye_cascade = cv2.CascadeClassifier('./models/haarcascades/haarcascade_eye.xml')"
   ]
  },
  {
   "cell_type": "code",
   "execution_count": 7,
   "id": "naughty-outdoors",
   "metadata": {},
   "outputs": [],
   "source": [
    "def detect_object(gray, frame):\n",
    "    face = face_cascade.detectMultiScale(gray)#, 1.3, 5)\n",
    "    for x, y, w, h in face:\n",
    "        cv2.rectangle(frame, (x, y), (x+w, y+h), (255,0 ,0), 2)\n",
    "        roi_gray = gray[y:y+h, x:x+w]\n",
    "        roi_color = frame[y:y+h, x:x+w]\n",
    "        eye = eye_cascade.detectMultiScale(roi_gray)#, 1.1, 3)\n",
    "        for _x, _y, _w, _h in eye:\n",
    "            cv2.rectangle(frame, (_x, _y), (_x+_w, _y+_h), (0, 255, 0), 2)\n",
    "    return frame\n",
    "        "
   ]
  },
  {
   "cell_type": "code",
   "execution_count": 8,
   "id": "explicit-calculator",
   "metadata": {},
   "outputs": [],
   "source": [
    "video = cv2.VideoCapture(0)\n",
    "\n",
    "while True:\n",
    "    _, frame = video.read()\n",
    "    gray =cv2.cvtColor(frame, cv2.COLOR_BGR2GRAY)\n",
    "    canvas = detect_object(gray, frame)\n",
    "    cv2.imshow('Videos', canvas)\n",
    "    if cv2.waitKey(1) & 0xFF == ord('q'):\n",
    "        break\n",
    "video.release()\n",
    "cv2.destroyAllWindows()"
   ]
  },
  {
   "cell_type": "markdown",
   "id": "educated-plain",
   "metadata": {},
   "source": []
  }
 ],
 "metadata": {
  "kernelspec": {
   "display_name": "Python 3",
   "language": "python",
   "name": "python3"
  },
  "language_info": {
   "codemirror_mode": {
    "name": "ipython",
    "version": 3
   },
   "file_extension": ".py",
   "mimetype": "text/x-python",
   "name": "python",
   "nbconvert_exporter": "python",
   "pygments_lexer": "ipython3",
   "version": "3.7.0"
  }
 },
 "nbformat": 4,
 "nbformat_minor": 5
}
